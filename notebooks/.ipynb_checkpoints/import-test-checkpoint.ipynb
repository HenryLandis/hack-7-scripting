{
 "cells": [
  {
   "cell_type": "code",
   "execution_count": 1,
   "metadata": {
    "scrolled": true
   },
   "outputs": [
    {
     "name": "stdout",
     "output_type": "stream",
     "text": [
      "['', '/home/henrylandis/hacks/hack-7-scripting/notebooks', '/home/henrylandis/miniconda3/envs/py37/lib/python37.zip', '/home/henrylandis/miniconda3/envs/py37/lib/python3.7', '/home/henrylandis/miniconda3/envs/py37/lib/python3.7/lib-dynload', '/home/henrylandis/miniconda3/envs/py37/lib/python3.7/site-packages', '/home/henrylandis/ipyrad', '/home/henrylandis/miniconda3/envs/py37/lib/python3.7/site-packages/IPython/extensions', '/home/henrylandis/.ipython']\n"
     ]
    }
   ],
   "source": [
    "import sys\n",
    "print(sys.path)"
   ]
  },
  {
   "cell_type": "code",
   "execution_count": 2,
   "metadata": {},
   "outputs": [
    {
     "name": "stdout",
     "output_type": "stream",
     "text": [
      "['', '/home/henrylandis/hacks/hack-7-scripting/notebooks', '/home/henrylandis/miniconda3/envs/py37/lib/python37.zip', '/home/henrylandis/miniconda3/envs/py37/lib/python3.7', '/home/henrylandis/miniconda3/envs/py37/lib/python3.7/lib-dynload', '/home/henrylandis/miniconda3/envs/py37/lib/python3.7/site-packages', '/home/henrylandis/ipyrad', '/home/henrylandis/miniconda3/envs/py37/lib/python3.7/site-packages/IPython/extensions', '/home/henrylandis/.ipython', '../']\n"
     ]
    }
   ],
   "source": [
    "# append your current parent dir to the sys.path list\n",
    "sys.path.append(\"../\")\n",
    "\n",
    "# show the updated sys.path \n",
    "print(sys.path)"
   ]
  },
  {
   "cell_type": "code",
   "execution_count": 3,
   "metadata": {},
   "outputs": [
    {
     "data": {
      "text/plain": [
       "'It is decidedly so.'"
      ]
     },
     "execution_count": 3,
     "metadata": {},
     "output_type": "execute_result"
    }
   ],
   "source": [
    "import mypackage\n",
    "mypackage.mymodule.magic_eight_ball()"
   ]
  }
 ],
 "metadata": {
  "kernelspec": {
   "display_name": "Python 3",
   "language": "python",
   "name": "python3"
  },
  "language_info": {
   "codemirror_mode": {
    "name": "ipython",
    "version": 3
   },
   "file_extension": ".py",
   "mimetype": "text/x-python",
   "name": "python",
   "nbconvert_exporter": "python",
   "pygments_lexer": "ipython3",
   "version": "3.7.9"
  }
 },
 "nbformat": 4,
 "nbformat_minor": 4
}
